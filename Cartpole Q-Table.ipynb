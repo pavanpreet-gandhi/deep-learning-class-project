{
    "cells": [
        {
            "cell_type": "markdown",
            "metadata": {},
            "source": [
                "# Cartpole: Q-Table"
            ]
        },
        {
            "cell_type": "markdown",
            "metadata": {},
            "source": [
                "## Introduction"
            ]
        },
        {
            "cell_type": "code",
            "execution_count": 15,
            "metadata": {},
            "outputs": [],
            "source": [
                "import numpy as np\n",
                "import matplotlib.pyplot as plt\n",
                "plt.style.use('dark_background')\n",
                "\n",
                "import gym\n",
                "from sklearn.preprocessing import KBinsDiscretizer\n",
                "from IPython.display import clear_output"
            ]
        },
        {
            "cell_type": "code",
            "execution_count": 16,
            "metadata": {},
            "outputs": [],
            "source": [
                "name = 'CartPole-v1'\n",
                "env = gym.make(name)"
            ]
        },
        {
            "cell_type": "markdown",
            "metadata": {},
            "source": [
                "The game: A pole is attached by an un-actuated joint to a cart, which moves along a frictionless track. The system is controlled by applying a force of +1 or -1 to the cart. The pendulum starts upright, and the goal is to prevent it from falling over. A reward of +1 is provided for every timestep that the pole remains upright. The episode ends when the pole is more than 15 degrees from vertical, or the cart moves more than 2.4 units from the center."
            ]
        },
        {
            "cell_type": "markdown",
            "metadata": {},
            "source": [
                "This game has a discrete action space but a continous state space. To form the Q-Table we must turn the continous state space into a discrete state space using a discretizer which uniformly divides the continous state space into a 2D grid of bins."
            ]
        },
        {
            "cell_type": "code",
            "execution_count": 17,
            "metadata": {},
            "outputs": [
                {
                    "name": "stdout",
                    "output_type": "stream",
                    "text": [
                        "Action Space: Discrete(2)\n",
                        "State Space: Box(4,)\n"
                    ]
                }
            ],
            "source": [
                "print('Action Space:', env.action_space) # Discrete action space\n",
                "print('State Space:', env.observation_space) # Continous state space"
            ]
        },
        {
            "cell_type": "markdown",
            "metadata": {},
            "source": [
                "## Generating the Q-Table"
            ]
        },
        {
            "cell_type": "markdown",
            "metadata": {},
            "source": [
                "### Setting the parameters"
            ]
        },
        {
            "cell_type": "code",
            "execution_count": 18,
            "metadata": {},
            "outputs": [],
            "source": [
                "n_episodes = 2000\n",
                "\n",
                "discount_rate = 0.99\n",
                "\n",
                "min_exp_rate = 0.01\n",
                "exp_decay_rate = 0.001\n",
                "\n",
                "min_learn_rate = 0.01\n",
                "learn_decay_rate = 0.001"
            ]
        },
        {
            "cell_type": "markdown",
            "metadata": {},
            "source": [
                "### Creating the discretizer to uniformly divide the continous state into bins"
            ]
        },
        {
            "cell_type": "code",
            "execution_count": 19,
            "metadata": {},
            "outputs": [],
            "source": [
                "n_bins = (6,12)\n",
                "\n",
                "# Pole angle between the low and high from the environment (-24,24) degrees\n",
                "# Pole angular velocity between (-50,50) degrees\n",
                "lower_bounds = [env.observation_space.low[2], -np.radians(50)]\n",
                "upper_bounds = [env.observation_space.high[2], np.radians(50)]\n",
                "\n",
                "# Converts the continous state space to a discrete state space\n",
                "def discretizer(_, __, angle, pole_velocity):\n",
                "    est = KBinsDiscretizer(n_bins=n_bins, encode='ordinal', strategy='uniform')\n",
                "    est.fit([lower_bounds, upper_bounds])\n",
                "    return tuple(map(int,est.transform([[angle, pole_velocity]])[0]))"
            ]
        },
        {
            "cell_type": "markdown",
            "metadata": {},
            "source": [
                "### Initializing the Q-Table"
            ]
        },
        {
            "cell_type": "code",
            "execution_count": 20,
            "metadata": {},
            "outputs": [
                {
                    "data": {
                        "text/plain": [
                            "(6, 12, 2)"
                        ]
                    },
                    "execution_count": 20,
                    "metadata": {},
                    "output_type": "execute_result"
                }
            ],
            "source": [
                "q_table = np.zeros(n_bins + (env.action_space.n,))\n",
                "q_table.shape"
            ]
        },
        {
            "cell_type": "markdown",
            "metadata": {},
            "source": [
                "The Q-Table has 6 bins for the angle, 12 bins for the angular velocity and 2 bins for the actions"
            ]
        },
        {
            "cell_type": "markdown",
            "metadata": {},
            "source": [
                "### Creating helper functions"
            ]
        },
        {
            "cell_type": "code",
            "execution_count": 21,
            "metadata": {},
            "outputs": [],
            "source": [
                "# Best action given the state\n",
                "def best_action(state:tuple):\n",
                "    return np.argmax(q_table[state])"
            ]
        },
        {
            "cell_type": "code",
            "execution_count": 22,
            "metadata": {},
            "outputs": [],
            "source": [
                "# Learning rate decay\n",
                "def learning_rate(e:int) -> float  :\n",
                "    return min_learn_rate + (1 - min_learn_rate) * np.exp(-learn_decay_rate*e)"
            ]
        },
        {
            "cell_type": "code",
            "execution_count": 23,
            "metadata": {},
            "outputs": [],
            "source": [
                "# Exploration rate decay\n",
                "def exploration_rate(e:int) -> float :\n",
                "    return min_exp_rate + (1 - min_exp_rate) * np.exp(-exp_decay_rate*e)"
            ]
        },
        {
            "cell_type": "markdown",
            "metadata": {},
            "source": [
                "### Building the Q-Table"
            ]
        },
        {
            "cell_type": "code",
            "execution_count": 24,
            "metadata": {},
            "outputs": [
                {
                    "name": "stdout",
                    "output_type": "stream",
                    "text": [
                        "Episode: 0\n",
                        "Average Score: 0.27\n",
                        "\n",
                        "Episode: 100\n",
                        "Average Score: 22.48\n",
                        "\n",
                        "Episode: 200\n",
                        "Average Score: 22.86\n",
                        "\n",
                        "Episode: 300\n",
                        "Average Score: 26.18\n",
                        "\n",
                        "Episode: 400\n",
                        "Average Score: 32.36\n",
                        "\n",
                        "Episode: 500\n",
                        "Average Score: 35.18\n",
                        "\n",
                        "Episode: 600\n",
                        "Average Score: 34.43\n",
                        "\n",
                        "Episode: 700\n",
                        "Average Score: 49.01\n",
                        "\n",
                        "Episode: 800\n",
                        "Average Score: 54.37\n",
                        "\n",
                        "Episode: 900\n",
                        "Average Score: 58.57\n",
                        "\n",
                        "Episode: 1000\n",
                        "Average Score: 51.79\n",
                        "\n",
                        "Episode: 1100\n",
                        "Average Score: 95.13\n",
                        "\n",
                        "Episode: 1200\n",
                        "Average Score: 92.07\n",
                        "\n",
                        "Episode: 1300\n",
                        "Average Score: 114.44\n",
                        "\n",
                        "Episode: 1400\n",
                        "Average Score: 82.23\n",
                        "\n",
                        "Episode: 1500\n",
                        "Average Score: 140.3\n",
                        "\n",
                        "Episode: 1600\n",
                        "Average Score: 87.97\n",
                        "\n",
                        "Episode: 1700\n",
                        "Average Score: 162.42\n",
                        "\n",
                        "Episode: 1800\n",
                        "Average Score: 227.41\n",
                        "\n"
                    ]
                }
            ],
            "source": [
                "scores = []\n",
                "\n",
                "for e in range(n_episodes):\n",
                "    \n",
                "    # Discretize state into buckets\n",
                "    current_state = discretizer(*env.reset())\n",
                "    \n",
                "    done = False\n",
                "    score = 0\n",
                "    while done!=True:\n",
                "        \n",
                "        # Choose between exploration and exploitation\n",
                "        er = exploration_rate(e)\n",
                "        if np.random.random() <= er: \n",
                "            action = env.action_space.sample() # Explore\n",
                "        else:\n",
                "            action = best_action(current_state) # Exploit\n",
                "        \n",
                "        # Increment enviroment\n",
                "        observation, reward, done, _ = env.step(action)\n",
                "        new_state = discretizer(*observation)\n",
                "        \n",
                "        # Update Q-Table according to the Bellman equation\n",
                "        lr = learning_rate(e)\n",
                "        old_value = q_table[current_state][action]\n",
                "        learned_value = reward + discount_rate*np.max(q_table[new_state])\n",
                "        q_table[current_state][action] = (1-lr)*old_value + lr*learned_value\n",
                "        \n",
                "        # Update variables\n",
                "        current_state = new_state\n",
                "        score+=1\n",
                "        # env.render()\n",
                "    \n",
                "    scores.append(score)\n",
                "    \n",
                "    if len(scores)>50:\n",
                "        if sum(scores[-50:])/100 > 200:\n",
                "            break\n",
                "    \n",
                "    if e%100==0:\n",
                "        print('Episode:', e)\n",
                "        print('Average Score:', sum(scores[-100:])/100)\n",
                "        print()"
            ]
        },
        {
            "cell_type": "markdown",
            "metadata": {},
            "source": [
                "### Plotting the scores during learning"
            ]
        },
        {
            "cell_type": "code",
            "execution_count": 27,
            "metadata": {},
            "outputs": [
                {
                    "data": {
                        "image/png": "[encoded data removed]",
                        "text/plain": [
                            "<Figure size 432x288 with 1 Axes>"
                        ]
                    },
                    "metadata": {},
                    "output_type": "display_data"
                }
            ],
            "source": [
                "es = [e for e in range(len(scores))]\n",
                "plt.plot(es, scores)\n",
                "plt.title('Scores')\n",
                "plt.grid()\n",
                "plt.show()"
            ]
        },
        {
            "cell_type": "code",
            "execution_count": 28,
            "metadata": {},
            "outputs": [
                {
                    "data": {
                        "image/png": "[encoded data removed]",
                        "text/plain": [
                            "<Figure size 432x288 with 1 Axes>"
                        ]
                    },
                    "metadata": {},
                    "output_type": "display_data"
                }
            ],
            "source": [
                "def moving_average(arr, n=10):\n",
                "    ret = np.cumsum(arr)\n",
                "    ret[n:] = ret[n:] - ret[:-n]\n",
                "    return ret[n-1:]/n\n",
                "\n",
                "plt.title('Moving Average')\n",
                "plt.plot(moving_average(scores, n=100));"
            ]
        },
        {
            "cell_type": "markdown",
            "metadata": {},
            "source": [
                "The scores are increasing over time which means it's learning"
            ]
        },
        {
            "cell_type": "markdown",
            "metadata": {},
            "source": [
                "## Playing the game"
            ]
        },
        {
            "cell_type": "code",
            "execution_count": 29,
            "metadata": {},
            "outputs": [
                {
                    "name": "stdout",
                    "output_type": "stream",
                    "text": [
                        "Episode: 9\n",
                        "Score: 500\n"
                    ]
                }
            ],
            "source": [
                "# Play the game 10 times with the calculated Q-Table\n",
                "scores = []\n",
                "for e in range(10):\n",
                "    observation = env.reset()\n",
                "    state = discretizer(*observation)\n",
                "    done = False\n",
                "    score = 0\n",
                "    while done!=True:\n",
                "        env.render()\n",
                "        action = best_action(state)\n",
                "        observation, reward, done, info = env.step(action)\n",
                "        state = discretizer(*observation)\n",
                "        score+=1\n",
                "    scores.append(score)\n",
                "    print('Episode:', e)\n",
                "    print('Score:', score)\n",
                "    clear_output(wait=True)\n",
                "env.close()"
            ]
        },
        {
            "cell_type": "code",
            "execution_count": 30,
            "metadata": {},
            "outputs": [
                {
                    "name": "stdout",
                    "output_type": "stream",
                    "text": [
                        "The average score is: 500.0\n"
                    ]
                }
            ],
            "source": [
                "print('The average score is:', np.mean(scores))"
            ]
        },
        {
            "cell_type": "markdown",
            "metadata": {},
            "source": [
                "Since 500 is the maximum score possible, the algorithm works well"
            ]
        }
    ],
    "metadata": {
        "interpreter": {
            "hash": "63fd5069d213b44bf678585dea6b12cceca9941eaf7f819626cde1f2670de90d"
        },
        "kernelspec": {
            "display_name": "Python 3.9.5 64-bit",
            "name": "python3"
        },
        "language_info": {
            "codemirror_mode": {
                "name": "ipython",
                "version": 3
            },
            "file_extension": ".py",
            "mimetype": "text/x-python",
            "name": "python",
            "nbconvert_exporter": "python",
            "pygments_lexer": "ipython3",
            "version": "3.8.5"
        },
        "orig_nbformat": 4
    },
    "nbformat": 4,
    "nbformat_minor": 2
}
